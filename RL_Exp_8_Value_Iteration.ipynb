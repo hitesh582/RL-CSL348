{
  "cells": [
    {
      "cell_type": "markdown",
      "metadata": {
        "id": "view-in-github",
        "colab_type": "text"
      },
      "source": [
        "<a href=\"https://colab.research.google.com/github/hitesh582/RL-CSL348/blob/main/Value_Iteration.ipynb\" target=\"_parent\"><img src=\"https://colab.research.google.com/assets/colab-badge.svg\" alt=\"Open In Colab\"/></a>"
      ]
    },
    {
      "cell_type": "code",
      "execution_count": null,
      "metadata": {
        "id": "Q2Fwr_FwIEbw"
      },
      "outputs": [],
      "source": [
        "import numpy as np"
      ]
    },
    {
      "cell_type": "code",
      "execution_count": null,
      "metadata": {
        "id": "IYm3RKMeIEbx"
      },
      "outputs": [],
      "source": [
        "# Define the transition probabilities, rewards, and discount factor\n",
        "P = np.array([\n",
        "    [[0.5, 0.5, 0.0], [0.0, 1.0, 0.0], [0.0, 0.0, 1.0]],\n",
        "    [[1.0, 0.0, 0.0], [0.5, 0.0, 0.5], [0.0, 1.0, 0.0]],\n",
        "    [[0.5, 0.5, 0.0], [0.0, 0.0, 1.0], [0.0, 1.0, 0.0]]\n",
        "])"
      ]
    },
    {
      "cell_type": "code",
      "execution_count": null,
      "metadata": {
        "id": "T9NN_4DjIEby"
      },
      "outputs": [],
      "source": [
        "R = np.array([\n",
        "    [10, 0, 0],\n",
        "    [0, 0, 20],\n",
        "    [0, 0, 0]\n",
        "])\n",
        "gamma = 0.7"
      ]
    },
    {
      "cell_type": "code",
      "execution_count": null,
      "metadata": {
        "id": "f_lg4mSuIEby"
      },
      "outputs": [],
      "source": [
        "# Initialize the value function\n",
        "V = np.zeros(3)"
      ]
    },
    {
      "cell_type": "code",
      "execution_count": null,
      "metadata": {
        "id": "z6qaA4_MIEbz"
      },
      "outputs": [],
      "source": [
        "# Perform value iteration\n",
        "for _ in range(1000):\n",
        "    V_new = np.max(R + gamma * np.sum(P * V, axis=2), axis=1)\n",
        "    if np.allclose(V, V_new):\n",
        "        break\n",
        "    V = V_new"
      ]
    },
    {
      "cell_type": "code",
      "execution_count": null,
      "metadata": {
        "id": "7KVOFHjHIEbz",
        "outputId": "71c94e69-323c-4358-d215-d742d773e0d5"
      },
      "outputs": [
        {
          "name": "stdout",
          "output_type": "stream",
          "text": [
            "[51.28054866 66.66516404 46.66516404]\n"
          ]
        }
      ],
      "source": [
        "# Print the optimal value function\n",
        "print(V)"
      ]
    }
  ],
  "metadata": {
    "kernelspec": {
      "display_name": "Python 3",
      "language": "python",
      "name": "python3"
    },
    "language_info": {
      "codemirror_mode": {
        "name": "ipython",
        "version": 3
      },
      "file_extension": ".py",
      "mimetype": "text/x-python",
      "name": "python",
      "nbconvert_exporter": "python",
      "pygments_lexer": "ipython3",
      "version": "3.11.5"
    },
    "colab": {
      "provenance": [],
      "include_colab_link": true
    }
  },
  "nbformat": 4,
  "nbformat_minor": 0
}
